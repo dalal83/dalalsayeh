{
 "cells": [
  {
   "cell_type": "code",
   "execution_count": null,
   "metadata": {},
   "outputs": [],
   "source": [
    "#Data science"
   ]
  },
  {
   "cell_type": "markdown",
   "metadata": {},
   "source": [
    "## Introduction\n",
    "This notebook aims to demonstrate basic programming examples in the context of data science, including arithmetic operations, unit conversions, and tools used in this field.\n"
   ]
  },
  {
   "cell_type": "markdown",
   "metadata": {},
   "source": [
    "## Data Science Programming Languages\n",
    "1. Python\n",
    "2. R\n",
    "3. SQL\n",
    "4. Julia\n",
    "5. Scala\n"
   ]
  },
  {
   "cell_type": "markdown",
   "metadata": {},
   "source": [
    "## Data Science Libraries\n",
    "1. Pandas\n",
    "2. NumPy\n",
    "3. Matplotlib\n",
    "4. Scikit-learn\n",
    "5. TensorFlow\n",
    "6. PyTorch\n"
   ]
  },
  {
   "cell_type": "markdown",
   "metadata": {},
   "source": [
    "## Data Science Tools\n",
    "\n",
    "| Tool           | Description                         | Main Use                   |\n",
    "|----------------|-------------------------------------|----------------------------|\n",
    "| Jupyter        | Interactive Python environment      | Analysis and visualization |\n",
    "| Git            | Version control system              | Version control            |\n",
    "| Docker         | Software containers                 | Creating isolated environments|\n",
    "| Tableau        | Data visualization                  | Visual data analysis       |\n",
    "| Apache Spark   | Large-scale data processing         | Big Data and Machine Learning |\n"
   ]
  },
  {
   "cell_type": "markdown",
   "metadata": {},
   "source": [
    "## Arithmetic Expressions Examples\n",
    "- Addition: `3 + 2 = 5`\n",
    "- Subtraction: `5 - 3 = 2`\n",
    "- Multiplication: `4 * 2 = 8`\n",
    "- Division: `8 / 2 = 4`\n"
   ]
  },
  {
   "cell_type": "markdown",
   "metadata": {},
   "source": [
    "# Multiply and add numbers\n",
    "num1 = 4\n",
    "num2 = 2\n",
    "multiplication_result = num1 * num2\n",
    "addition_result = num1 + num2\n",
    "\n",
    "multiplication_result, addition_result\n"
   ]
  },
  {
   "cell_type": "markdown",
   "metadata": {},
   "source": [
    "# Convert minutes to hours\n",
    "def convert_to_hours(minutes):\n",
    "    hours = minutes // 60\n",
    "    remaining_minutes = minutes % 60\n",
    "    return hours, remaining_minutes\n",
    "\n",
    "convert_to_hours(150)\n"
   ]
  },
  {
   "cell_type": "markdown",
   "metadata": {},
   "source": [
    "# List objectives\n",
    "objectives = [\n",
    "    \"Learn to handle data\",\n",
    "    \"Develop skills in analysis and visualization\",\n",
    "    \"Master data science libraries\",\n",
    "    \"Solve problems using Python\"\n",
    "]\n",
    "\n",
    "objectives\n"
   ]
  },
  {
   "cell_type": "markdown",
   "metadata": {},
   "source": [
    "## Author\n",
    "DALAL SAYEH\n"
   ]
  }
 ],
 "metadata": {
  "language_info": {
   "name": "python"
  }
 },
 "nbformat": 4,
 "nbformat_minor": 2
}
